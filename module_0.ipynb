{
 "cells": [
  {
   "cell_type": "code",
   "execution_count": 7,
   "metadata": {},
   "outputs": [
    {
     "name": "stdout",
     "output_type": "stream",
     "text": [
      "Ваш алгоритм угадывает число в среднем за 5 попыток\n"
     ]
    },
    {
     "data": {
      "text/plain": [
       "5"
      ]
     },
     "execution_count": 7,
     "metadata": {},
     "output_type": "execute_result"
    }
   ],
   "source": [
    "import numpy as np\n",
    "\n",
    "def game_core(number):\n",
    "    \"\"\"This function takes a random number, use binary search and returns the number of attempts\"\"\"\n",
    "    counter = 0 #set the number of attempts\n",
    "    start = 1 #set the start border\n",
    "    stop = 100 #set the stop border\n",
    "    predict = np.random.randint(1,101) #generates a random number from range(1,101)\n",
    "    \n",
    "    while number != predict: #set the condition\n",
    "        counter += 1 #until the condition is fulfilled, increase the counter by 1\n",
    "        predict = (start + stop)//2 #halve the search limits\n",
    "        if number > predict: \n",
    "            start = predict + 1 #set the search boundary, according to the condition above\n",
    "        else:\n",
    "            stop = predict - 1  #set the search boundary, if else\n",
    "        \n",
    "    return(counter) \n",
    "\n",
    "\n",
    "def score_game(game_core):\n",
    "    \"\"\"This function run the game 1000 times to see how fast the game guesses the number\"\"\"\n",
    "    count_ls = []\n",
    "    np.random.seed(1) \n",
    "    random_array = np.random.randint(1,101, size=(1000))\n",
    "    for number in random_array:\n",
    "        count_ls.append(game_core(number))\n",
    "    score = int(np.mean(count_ls))\n",
    "    print(f\"Ваш алгоритм угадывает число в среднем за {score} попыток\")\n",
    "    \n",
    "    return(score)\n",
    "\n",
    "\n",
    "score_game(game_core)"
   ]
  },
  {
   "cell_type": "code",
   "execution_count": null,
   "metadata": {},
   "outputs": [],
   "source": []
  }
 ],
 "metadata": {
  "kernelspec": {
   "display_name": "Python 3",
   "language": "python",
   "name": "python3"
  },
  "language_info": {
   "codemirror_mode": {
    "name": "ipython",
    "version": 3
   },
   "file_extension": ".py",
   "mimetype": "text/x-python",
   "name": "python",
   "nbconvert_exporter": "python",
   "pygments_lexer": "ipython3",
   "version": "3.8.5"
  }
 },
 "nbformat": 4,
 "nbformat_minor": 4
}
